{
 "cells": [
  {
   "cell_type": "code",
   "execution_count": 53,
   "metadata": {},
   "outputs": [],
   "source": [
    "#| default_exp core"
   ]
  },
  {
   "cell_type": "markdown",
   "metadata": {},
   "source": [
    "# core\n",
    "\n",
    "> This package modifies some underlying fastHTML functionality so that Datastar is the underlying js library for DOM manipulation. This is currently implemented as a patch to the orignial library.\n",
    "> FastHTML + Datastar Integration\n",
    "> Server-driven DOM updates with clean Python APIs\n",
    "> This module provides a seamless integration between FastHTML and Datastar, replacing HTMX's client-driven approach with Datastar's server-driven philosophy. Instead of defining swap behavior in HTML attributes, routes declare their patching behavior, and the server controls all DOM updates via Server-Sent Events."
   ]
  },
  {
   "cell_type": "code",
   "execution_count": 54,
   "metadata": {},
   "outputs": [],
   "source": [
    "#| hide\n",
    "from nbdev.showdoc import *"
   ]
  },
  {
   "cell_type": "code",
   "execution_count": 55,
   "metadata": {},
   "outputs": [],
   "source": [
    "#| export\n",
    "\n",
    "from fastcore.utils import *\n",
    "from fasthtml.core import _apply_ft\n",
    "from fasthtml.common import *\n",
    "\n",
    "from functools import partialmethod\n",
    "from copy import deepcopy\n",
    "from fasthtml.core import _wrap_call\n",
    "import json\n"
   ]
  },
  {
   "cell_type": "markdown",
   "metadata": {},
   "source": [
    "## Response Processing\n",
    "*The core of the Datastar integration involves replacing FastHTML's response processing to generate Server-Sent Events (SSE) instead of traditional HTML responses.*"
   ]
  },
  {
   "cell_type": "code",
   "execution_count": 56,
   "metadata": {},
   "outputs": [],
   "source": [
    "#| export\n",
    "def _datastar_part_resp(req, resp):\n",
    "    \"\"\"Partition response into HTTP headers, background tasks, and content for Datastar compatibility\"\"\"\n",
    "    resp = flat_tuple(resp)\n",
    "    resp = resp + tuple(getattr(req, 'injects', ()))\n",
    "    http_hdrs, resp = partition(resp, risinstance(HttpHeader))\n",
    "    tasks, resp = partition(resp, risinstance(BackgroundTask))\n",
    "\n",
    "    kw = {\"headers\": {}}  # Remove HTMX-specific vary headers\n",
    "    if http_hdrs: kw['headers'] |= {o.k:str(o.v) for o in http_hdrs}\n",
    "    if tasks:\n",
    "        ts = BackgroundTasks()\n",
    "        for t in tasks: ts.tasks.append(t)\n",
    "        kw['background'] = ts\n",
    "\n",
    "    resp = tuple(resp)\n",
    "    if len(resp)==1: resp = resp[0]\n",
    "    return resp, kw"
   ]
  },
  {
   "cell_type": "markdown",
   "metadata": {},
   "source": [
    "This function processes FastHTML responses but removes HTMX-specific headers that aren't needed for Datastar:"
   ]
  },
  {
   "cell_type": "code",
   "execution_count": 57,
   "metadata": {},
   "outputs": [],
   "source": [
    "from fasthtml.common import *\n",
    "from starlette.testclient import TestClient\n"
   ]
  },
  {
   "cell_type": "code",
   "execution_count": 58,
   "metadata": {},
   "outputs": [],
   "source": [
    "# Test with actual FastHTML app and TestClient\n",
    "app = FastHTML()\n",
    "\n",
    "@app.get(\"/test-headers\")\n",
    "def test_headers():\n",
    "    return Div(\"Content\"), HttpHeader(\"X-Custom\", \"test-value\")\n",
    "\n",
    "client = TestClient(app)\n",
    "response = client.get(\"/test-headers\")\n",
    "assert response.headers[\"X-Custom\"] == \"test-value\""
   ]
  },
  {
   "cell_type": "code",
   "execution_count": 59,
   "metadata": {},
   "outputs": [],
   "source": [
    "#| export  \n",
    "def _datastar_xml(req, resp, indent):\n",
    "    \"\"\"Convert response to XML with intelligent header handling for full pages vs fragments\"\"\"\n",
    "    is_datastar_request = (\n",
    "        'datastar' in req.query_params or\n",
    "        req.headers.get('datastar-request') == 'true'\n",
    "    )\n",
    "\n",
    "    if is_datastar_request:\n",
    "        resp = _apply_ft(resp)\n",
    "        return to_xml(resp, indent)\n",
    "    else:\n",
    "        hdr_tags = 'title','meta','link','style','base'\n",
    "        resp = tuplify(resp)\n",
    "        heads, bdy = partition(resp, lambda o: getattr(o, 'tag', '') in hdr_tags)\n",
    "        title = [] if any(getattr(o, 'tag', '')=='title' for o in heads) else [Title(req.app.title)]\n",
    "        canonical = [Link(rel=\"canonical\", href=getattr(req, 'canonical', req.url))] if req.app.canonical else []\n",
    "        resp = respond(req, [*heads, *title, *canonical], bdy)\n",
    "        resp = _apply_ft(resp)\n",
    "        return to_xml(resp, indent)"
   ]
  },
  {
   "cell_type": "code",
   "execution_count": 60,
   "metadata": {},
   "outputs": [],
   "source": [
    "# Test fragment vs full page detection\n",
    "app = FastHTML(title=\"Test App\")"
   ]
  },
  {
   "cell_type": "code",
   "execution_count": 61,
   "metadata": {},
   "outputs": [],
   "source": [
    "@app.get(\"/fragment\")\n",
    "def fragment():\n",
    "    return Div(id=\"content\")(\"Fragment content\")"
   ]
  },
  {
   "cell_type": "code",
   "execution_count": 62,
   "metadata": {},
   "outputs": [],
   "source": [
    "client = TestClient(app)"
   ]
  },
  {
   "cell_type": "markdown",
   "metadata": {},
   "source": [
    "Regular request gets full page"
   ]
  },
  {
   "cell_type": "code",
   "execution_count": 63,
   "metadata": {},
   "outputs": [],
   "source": [
    "response = client.get(\"/fragment\")\n",
    "assert \"<title>Test App</title>\" in response.text\n",
    "assert \"<div id=\\\"content\\\">Fragment content</div>\" in response.text"
   ]
  },
  {
   "cell_type": "markdown",
   "metadata": {},
   "source": [
    "Datastar request gets fragment only"
   ]
  },
  {
   "cell_type": "code",
   "execution_count": 64,
   "metadata": {},
   "outputs": [],
   "source": [
    "response = client.get(\"/fragment?datastar=true\")\n",
    "# This would be just the fragment in a real implementation"
   ]
  },
  {
   "cell_type": "code",
   "execution_count": 65,
   "metadata": {},
   "outputs": [],
   "source": [
    "#| export\n",
    "def _datastar_resp(req, resp, cls=empty, status_code=200):\n",
    "    \"\"\"Create Datastar-compatible responses with automatic SSE formatting\"\"\"\n",
    "    if not resp: resp = ''\n",
    "    if hasattr(resp, '__response__'): resp = resp.__response__(req)\n",
    "    if isinstance(resp, FileResponse) and not os.path.exists(resp.path):\n",
    "        raise HTTPException(404, resp.path)\n",
    "\n",
    "    resp, kw = _datastar_part_resp(req, resp)\n",
    "\n",
    "    if cls is not empty: return cls(resp, status_code=status_code, **kw)\n",
    "    if isinstance(resp, Response): return resp\n",
    "\n",
    "    # Handle JSON responses as Datastar signals\n",
    "    if isinstance(resp, Mapping):\n",
    "        return JSONResponse(resp, status_code=status_code, **kw)\n",
    "\n",
    "    # Check for Datastar patch options\n",
    "    mode = getattr(req, 'datastar_mode', None)\n",
    "    selector = getattr(req, 'datastar_selector', None)\n",
    "    transition = getattr(req, 'datastar_transition', False)\n",
    "\n",
    "    if mode or selector or transition:\n",
    "        cts = _datastar_xml(req, resp, fh_cfg.indent)\n",
    "        event_data = \"event: datastar-patch-elements\\n\"\n",
    "        if mode: event_data += f\"data: mode {mode}\\n\"\n",
    "        if selector: event_data += f\"data: selector {selector}\\n\"\n",
    "        if transition: event_data += f\"data: useViewTransition true\\n\"\n",
    "        event_data += f\"data: elements {cts}\\n\\n\"\n",
    "        return Response(event_data, media_type=\"text/event-stream\", status_code=status_code, **kw)\n",
    "    else:\n",
    "        cts = _datastar_xml(req, resp, fh_cfg.indent)\n",
    "        return HTMLResponse(cts, status_code=status_code, **kw)"
   ]
  },
  {
   "cell_type": "markdown",
   "metadata": {},
   "source": [
    "Test JSON responses become signals"
   ]
  },
  {
   "cell_type": "code",
   "execution_count": 66,
   "metadata": {},
   "outputs": [],
   "source": [
    "app = FastHTML()\n",
    "\n",
    "@app.get(\"/signals\")\n",
    "def signals():\n",
    "    return {\"counter\": 42, \"message\": \"hello\"}\n",
    "\n",
    "client = TestClient(app)\n",
    "response = client.get(\"/signals\")\n",
    "assert response.json() == {\"counter\": 42, \"message\": \"hello\"}"
   ]
  },
  {
   "cell_type": "markdown",
   "metadata": {},
   "source": [
    "## Route Enhancement"
   ]
  },
  {
   "cell_type": "code",
   "execution_count": 67,
   "metadata": {},
   "outputs": [],
   "source": [
    "#| export\n",
    "@patch\n",
    "def route(self:FastHTML, path:str=None, methods=None, name=None, include_in_schema=True, body_wrap=None,\n",
    "          patch_mode=None, selector=None, use_view_transition=False):\n",
    "    \"\"\"Enhanced route decorator with server-driven Datastar patch options\"\"\"\n",
    "    def f(func):\n",
    "        func._datastar_mode = patch_mode\n",
    "        func._datastar_selector = selector  \n",
    "        func._datastar_transition = use_view_transition\n",
    "        return self._add_route(func, path, methods, name=name, include_in_schema=include_in_schema, body_wrap=body_wrap)\n",
    "    return f(path) if callable(path) else f"
   ]
  },
  {
   "cell_type": "markdown",
   "metadata": {},
   "source": [
    "Update HTTP method shortcuts"
   ]
  },
  {
   "cell_type": "code",
   "execution_count": 68,
   "metadata": {},
   "outputs": [],
   "source": [
    "for method in all_meths:\n",
    "    setattr(FastHTML, method, partialmethod(FastHTML.route, methods=method))"
   ]
  },
  {
   "cell_type": "code",
   "execution_count": 69,
   "metadata": {},
   "outputs": [],
   "source": [
    "# Test route with patch options\n",
    "app = FastHTML()\n",
    "\n",
    "@app.get(\"/append-item\", patch_mode=\"append\", selector=\"#list\")\n",
    "def append_item():\n",
    "    return Li(\"New item\")\n",
    "\n",
    "# Verify the function has Datastar attributes\n",
    "assert hasattr(append_item, '_datastar_mode')\n",
    "assert append_item._datastar_mode == \"append\"\n",
    "assert append_item._datastar_selector == \"#list\""
   ]
  },
  {
   "cell_type": "markdown",
   "metadata": {},
   "source": [
    "## Endpoint Processing"
   ]
  },
  {
   "cell_type": "code",
   "execution_count": 70,
   "metadata": {},
   "outputs": [],
   "source": [
    "#| export\n",
    "@patch  \n",
    "def _endp(self:FastHTML, f, body_wrap):\n",
    "    \"\"\"Enhanced endpoint wrapper with Datastar options support\"\"\"\n",
    "    sig = signature_ex(f, True)\n",
    "    async def _f(req):\n",
    "        req.datastar_mode = getattr(f, '_datastar_mode', None)\n",
    "        req.datastar_selector = getattr(f, '_datastar_selector', None)\n",
    "        req.datastar_transition = getattr(f, '_datastar_transition', False)\n",
    "        \n",
    "        resp = None\n",
    "        req.injects = []\n",
    "        req.hdrs,req.ftrs,req.htmlkw,req.bodykw = map(deepcopy, (self.hdrs,self.ftrs,self.htmlkw,self.bodykw))\n",
    "        req.hdrs,req.ftrs = listify(req.hdrs),listify(req.ftrs)\n",
    "        \n",
    "        for b in self.before:\n",
    "            if not resp:\n",
    "                if isinstance(b, Beforeware): bf,skip = b.f,b.skip\n",
    "                else: bf,skip = b,[]\n",
    "                if not any(re.fullmatch(r, req.url.path) for r in skip):\n",
    "                    resp = await _wrap_call(bf, req, _params(bf))\n",
    "        \n",
    "        req.body_wrap = body_wrap\n",
    "        if not resp: resp = await _wrap_call(f, req, sig.parameters)\n",
    "        \n",
    "        for a in self.after:\n",
    "            _,*wreq = await _wrap_req(req, _params(a))\n",
    "            nr = a(resp, *wreq)\n",
    "            if nr: resp = nr\n",
    "            \n",
    "        return _datastar_resp(req, resp, sig.return_annotation)\n",
    "    return _f"
   ]
  },
  {
   "cell_type": "markdown",
   "metadata": {},
   "source": [
    "## Monkey Patch Application"
   ]
  },
  {
   "cell_type": "code",
   "execution_count": 74,
   "metadata": {},
   "outputs": [],
   "source": [
    "#| export\n",
    "import fasthtml.core\n",
    "fasthtml.core._resp = _datastar_resp"
   ]
  },
  {
   "cell_type": "code",
   "execution_count": 75,
   "metadata": {},
   "outputs": [],
   "source": [
    "#| hide\n",
    "import nbdev; nbdev.nbdev_export()"
   ]
  },
  {
   "cell_type": "code",
   "execution_count": null,
   "metadata": {},
   "outputs": [],
   "source": []
  }
 ],
 "metadata": {
  "kernelspec": {
   "display_name": "Python 3 (ipykernel)",
   "language": "python",
   "name": "python3"
  },
  "language_info": {
   "codemirror_mode": {
    "name": "ipython",
    "version": 3
   },
   "file_extension": ".py",
   "mimetype": "text/x-python",
   "name": "python",
   "nbconvert_exporter": "python",
   "pygments_lexer": "ipython3",
   "version": "3.12.10"
  }
 },
 "nbformat": 4,
 "nbformat_minor": 4
}
